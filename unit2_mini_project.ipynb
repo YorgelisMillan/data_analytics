{
  "nbformat": 4,
  "nbformat_minor": 0,
  "metadata": {
    "colab": {
      "name": "unit2_mini_project.ipynb",
      "provenance": [],
      "authorship_tag": "ABX9TyOzN7TwjXvBrLfgvCQTeQah",
      "include_colab_link": true
    },
    "kernelspec": {
      "name": "python3",
      "display_name": "Python 3"
    }
  },
  "cells": [
    {
      "cell_type": "markdown",
      "metadata": {
        "id": "view-in-github",
        "colab_type": "text"
      },
      "source": [
        "<a href=\"https://colab.research.google.com/github/YorgelisMillan/data_analytics/blob/main/unit2_mini_project.ipynb\" target=\"_parent\"><img src=\"https://colab.research.google.com/assets/colab-badge.svg\" alt=\"Open In Colab\"/></a>"
      ]
    },
    {
      "cell_type": "code",
      "metadata": {
        "colab": {
          "base_uri": "https://localhost:8080/"
        },
        "id": "ZzTRmCI6EQGk",
        "outputId": "150d0090-bfbb-4ee4-87e4-c7aca78b2b06"
      },
      "source": [
        "num = int(input('Enter a number: '))\n",
        "if num % 4 == 0:\n",
        "    print('The number you input is a multiple of 4')\n",
        "elif num % 2 == 0:\n",
        "    print('The number you input is an even')\n",
        "else:\n",
        "    print('The number you input is an odd') "
      ],
      "execution_count": 1,
      "outputs": [
        {
          "output_type": "stream",
          "text": [
            "Enter a number: 34\n",
            "The number you input is an even\n"
          ],
          "name": "stdout"
        }
      ]
    },
    {
      "cell_type": "code",
      "metadata": {
        "colab": {
          "base_uri": "https://localhost:8080/"
        },
        "id": "OsI5pjOFEUI9",
        "outputId": "492d0244-d04c-47b2-b227-6db6d44c2d1b"
      },
      "source": [
        "num = int(input(\"give me a number to check: \"))\n",
        "check = int(input(\"give me a number to divide by: \"))\n",
        "\n",
        "if num % 4 == 0:\n",
        "    print(num, \"is a multiple of 4\")\n",
        "elif num % 2 == 0:\n",
        "    print(num, \"is an even number\")\n",
        "else:\n",
        "    print(num, \"is an odd number\")\n",
        "    \n",
        "if num % check == 0:\n",
        "    print(num, \"divides evenly by\", check)\n",
        "else:\n",
        "    print(num, \"does not divide evenly by\", check) "
      ],
      "execution_count": 2,
      "outputs": [
        {
          "output_type": "stream",
          "text": [
            "give me a number to check: 20\n",
            "give me a number to divide by: 4\n",
            "20 is a multiple of 4\n",
            "20 divides evenly by 4\n"
          ],
          "name": "stdout"
        }
      ]
    },
    {
      "cell_type": "code",
      "metadata": {
        "id": "1ulrpzW6Ecls"
      },
      "source": [
        ""
      ],
      "execution_count": 2,
      "outputs": []
    }
  ]
}