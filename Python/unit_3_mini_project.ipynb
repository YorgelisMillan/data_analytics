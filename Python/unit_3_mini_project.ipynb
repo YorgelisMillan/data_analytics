{
  "nbformat": 4,
  "nbformat_minor": 0,
  "metadata": {
    "colab": {
      "name": " unit 3 mini-project.ipynb",
      "provenance": []
    },
    "kernelspec": {
      "name": "python3",
      "display_name": "Python 3"
    }
  },
  "cells": [
    {
      "cell_type": "code",
      "metadata": {
        "id": "4lvlzdvGtqqj"
      },
      "source": [
        "import numpy as np\n",
        "import pandas as pd\n",
        "import matplotlib.pyplot as plot\n",
        "%matplotlib inline\n",
        "import seaborn as sns\n",
        "import matplotlib.pyplot as plt"
      ],
      "execution_count": 61,
      "outputs": []
    },
    {
      "cell_type": "code",
      "metadata": {
        "id": "0MteIOO7ttLW"
      },
      "source": [
        "df = pd.read_csv('https://raw.githubusercontent.com/nytimes/covid-19-data/master/us-counties.csv')"
      ],
      "execution_count": null,
      "outputs": []
    },
    {
      "cell_type": "code",
      "metadata": {
        "colab": {
          "base_uri": "https://localhost:8080/",
          "height": 419
        },
        "id": "jSeijy69twzY",
        "outputId": "8091a48a-a691-4f8d-985b-dfb86aa61435"
      },
      "source": [
        "df"
      ],
      "execution_count": null,
      "outputs": [
        {
          "output_type": "execute_result",
          "data": {
            "text/html": [
              "<div>\n",
              "<style scoped>\n",
              "    .dataframe tbody tr th:only-of-type {\n",
              "        vertical-align: middle;\n",
              "    }\n",
              "\n",
              "    .dataframe tbody tr th {\n",
              "        vertical-align: top;\n",
              "    }\n",
              "\n",
              "    .dataframe thead th {\n",
              "        text-align: right;\n",
              "    }\n",
              "</style>\n",
              "<table border=\"1\" class=\"dataframe\">\n",
              "  <thead>\n",
              "    <tr style=\"text-align: right;\">\n",
              "      <th></th>\n",
              "      <th>date</th>\n",
              "      <th>county</th>\n",
              "      <th>state</th>\n",
              "      <th>fips</th>\n",
              "      <th>cases</th>\n",
              "      <th>deaths</th>\n",
              "    </tr>\n",
              "  </thead>\n",
              "  <tbody>\n",
              "    <tr>\n",
              "      <th>0</th>\n",
              "      <td>2020-01-21</td>\n",
              "      <td>Snohomish</td>\n",
              "      <td>Washington</td>\n",
              "      <td>53061.0</td>\n",
              "      <td>1</td>\n",
              "      <td>0.0</td>\n",
              "    </tr>\n",
              "    <tr>\n",
              "      <th>1</th>\n",
              "      <td>2020-01-22</td>\n",
              "      <td>Snohomish</td>\n",
              "      <td>Washington</td>\n",
              "      <td>53061.0</td>\n",
              "      <td>1</td>\n",
              "      <td>0.0</td>\n",
              "    </tr>\n",
              "    <tr>\n",
              "      <th>2</th>\n",
              "      <td>2020-01-23</td>\n",
              "      <td>Snohomish</td>\n",
              "      <td>Washington</td>\n",
              "      <td>53061.0</td>\n",
              "      <td>1</td>\n",
              "      <td>0.0</td>\n",
              "    </tr>\n",
              "    <tr>\n",
              "      <th>3</th>\n",
              "      <td>2020-01-24</td>\n",
              "      <td>Cook</td>\n",
              "      <td>Illinois</td>\n",
              "      <td>17031.0</td>\n",
              "      <td>1</td>\n",
              "      <td>0.0</td>\n",
              "    </tr>\n",
              "    <tr>\n",
              "      <th>4</th>\n",
              "      <td>2020-01-24</td>\n",
              "      <td>Snohomish</td>\n",
              "      <td>Washington</td>\n",
              "      <td>53061.0</td>\n",
              "      <td>1</td>\n",
              "      <td>0.0</td>\n",
              "    </tr>\n",
              "    <tr>\n",
              "      <th>...</th>\n",
              "      <td>...</td>\n",
              "      <td>...</td>\n",
              "      <td>...</td>\n",
              "      <td>...</td>\n",
              "      <td>...</td>\n",
              "      <td>...</td>\n",
              "    </tr>\n",
              "    <tr>\n",
              "      <th>936738</th>\n",
              "      <td>2021-01-16</td>\n",
              "      <td>Sweetwater</td>\n",
              "      <td>Wyoming</td>\n",
              "      <td>56037.0</td>\n",
              "      <td>3280</td>\n",
              "      <td>26.0</td>\n",
              "    </tr>\n",
              "    <tr>\n",
              "      <th>936739</th>\n",
              "      <td>2021-01-16</td>\n",
              "      <td>Teton</td>\n",
              "      <td>Wyoming</td>\n",
              "      <td>56039.0</td>\n",
              "      <td>2614</td>\n",
              "      <td>4.0</td>\n",
              "    </tr>\n",
              "    <tr>\n",
              "      <th>936740</th>\n",
              "      <td>2021-01-16</td>\n",
              "      <td>Uinta</td>\n",
              "      <td>Wyoming</td>\n",
              "      <td>56041.0</td>\n",
              "      <td>1813</td>\n",
              "      <td>9.0</td>\n",
              "    </tr>\n",
              "    <tr>\n",
              "      <th>936741</th>\n",
              "      <td>2021-01-16</td>\n",
              "      <td>Washakie</td>\n",
              "      <td>Wyoming</td>\n",
              "      <td>56043.0</td>\n",
              "      <td>841</td>\n",
              "      <td>23.0</td>\n",
              "    </tr>\n",
              "    <tr>\n",
              "      <th>936742</th>\n",
              "      <td>2021-01-16</td>\n",
              "      <td>Weston</td>\n",
              "      <td>Wyoming</td>\n",
              "      <td>56045.0</td>\n",
              "      <td>602</td>\n",
              "      <td>4.0</td>\n",
              "    </tr>\n",
              "  </tbody>\n",
              "</table>\n",
              "<p>936743 rows × 6 columns</p>\n",
              "</div>"
            ],
            "text/plain": [
              "              date      county       state     fips  cases  deaths\n",
              "0       2020-01-21   Snohomish  Washington  53061.0      1     0.0\n",
              "1       2020-01-22   Snohomish  Washington  53061.0      1     0.0\n",
              "2       2020-01-23   Snohomish  Washington  53061.0      1     0.0\n",
              "3       2020-01-24        Cook    Illinois  17031.0      1     0.0\n",
              "4       2020-01-24   Snohomish  Washington  53061.0      1     0.0\n",
              "...            ...         ...         ...      ...    ...     ...\n",
              "936738  2021-01-16  Sweetwater     Wyoming  56037.0   3280    26.0\n",
              "936739  2021-01-16       Teton     Wyoming  56039.0   2614     4.0\n",
              "936740  2021-01-16       Uinta     Wyoming  56041.0   1813     9.0\n",
              "936741  2021-01-16    Washakie     Wyoming  56043.0    841    23.0\n",
              "936742  2021-01-16      Weston     Wyoming  56045.0    602     4.0\n",
              "\n",
              "[936743 rows x 6 columns]"
            ]
          },
          "metadata": {
            "tags": []
          },
          "execution_count": 26
        }
      ]
    },
    {
      "cell_type": "code",
      "metadata": {
        "colab": {
          "base_uri": "https://localhost:8080/",
          "height": 204
        },
        "id": "LHuIxFB3tx3K",
        "outputId": "5780c2f2-183d-40a6-dcd4-c4f802adc74e"
      },
      "source": [
        "df.head()"
      ],
      "execution_count": null,
      "outputs": [
        {
          "output_type": "execute_result",
          "data": {
            "text/html": [
              "<div>\n",
              "<style scoped>\n",
              "    .dataframe tbody tr th:only-of-type {\n",
              "        vertical-align: middle;\n",
              "    }\n",
              "\n",
              "    .dataframe tbody tr th {\n",
              "        vertical-align: top;\n",
              "    }\n",
              "\n",
              "    .dataframe thead th {\n",
              "        text-align: right;\n",
              "    }\n",
              "</style>\n",
              "<table border=\"1\" class=\"dataframe\">\n",
              "  <thead>\n",
              "    <tr style=\"text-align: right;\">\n",
              "      <th></th>\n",
              "      <th>date</th>\n",
              "      <th>county</th>\n",
              "      <th>state</th>\n",
              "      <th>fips</th>\n",
              "      <th>cases</th>\n",
              "      <th>deaths</th>\n",
              "    </tr>\n",
              "  </thead>\n",
              "  <tbody>\n",
              "    <tr>\n",
              "      <th>0</th>\n",
              "      <td>2020-01-21</td>\n",
              "      <td>Snohomish</td>\n",
              "      <td>Washington</td>\n",
              "      <td>53061.0</td>\n",
              "      <td>1</td>\n",
              "      <td>0.0</td>\n",
              "    </tr>\n",
              "    <tr>\n",
              "      <th>1</th>\n",
              "      <td>2020-01-22</td>\n",
              "      <td>Snohomish</td>\n",
              "      <td>Washington</td>\n",
              "      <td>53061.0</td>\n",
              "      <td>1</td>\n",
              "      <td>0.0</td>\n",
              "    </tr>\n",
              "    <tr>\n",
              "      <th>2</th>\n",
              "      <td>2020-01-23</td>\n",
              "      <td>Snohomish</td>\n",
              "      <td>Washington</td>\n",
              "      <td>53061.0</td>\n",
              "      <td>1</td>\n",
              "      <td>0.0</td>\n",
              "    </tr>\n",
              "    <tr>\n",
              "      <th>3</th>\n",
              "      <td>2020-01-24</td>\n",
              "      <td>Cook</td>\n",
              "      <td>Illinois</td>\n",
              "      <td>17031.0</td>\n",
              "      <td>1</td>\n",
              "      <td>0.0</td>\n",
              "    </tr>\n",
              "    <tr>\n",
              "      <th>4</th>\n",
              "      <td>2020-01-24</td>\n",
              "      <td>Snohomish</td>\n",
              "      <td>Washington</td>\n",
              "      <td>53061.0</td>\n",
              "      <td>1</td>\n",
              "      <td>0.0</td>\n",
              "    </tr>\n",
              "  </tbody>\n",
              "</table>\n",
              "</div>"
            ],
            "text/plain": [
              "         date     county       state     fips  cases  deaths\n",
              "0  2020-01-21  Snohomish  Washington  53061.0      1     0.0\n",
              "1  2020-01-22  Snohomish  Washington  53061.0      1     0.0\n",
              "2  2020-01-23  Snohomish  Washington  53061.0      1     0.0\n",
              "3  2020-01-24       Cook    Illinois  17031.0      1     0.0\n",
              "4  2020-01-24  Snohomish  Washington  53061.0      1     0.0"
            ]
          },
          "metadata": {
            "tags": []
          },
          "execution_count": 27
        }
      ]
    },
    {
      "cell_type": "code",
      "metadata": {
        "colab": {
          "base_uri": "https://localhost:8080/",
          "height": 204
        },
        "id": "nUW3lExIt11b",
        "outputId": "d51ef401-a871-451f-8b5a-4ddfd5442f30"
      },
      "source": [
        "df.tail()"
      ],
      "execution_count": null,
      "outputs": [
        {
          "output_type": "execute_result",
          "data": {
            "text/html": [
              "<div>\n",
              "<style scoped>\n",
              "    .dataframe tbody tr th:only-of-type {\n",
              "        vertical-align: middle;\n",
              "    }\n",
              "\n",
              "    .dataframe tbody tr th {\n",
              "        vertical-align: top;\n",
              "    }\n",
              "\n",
              "    .dataframe thead th {\n",
              "        text-align: right;\n",
              "    }\n",
              "</style>\n",
              "<table border=\"1\" class=\"dataframe\">\n",
              "  <thead>\n",
              "    <tr style=\"text-align: right;\">\n",
              "      <th></th>\n",
              "      <th>date</th>\n",
              "      <th>county</th>\n",
              "      <th>state</th>\n",
              "      <th>fips</th>\n",
              "      <th>cases</th>\n",
              "      <th>deaths</th>\n",
              "    </tr>\n",
              "  </thead>\n",
              "  <tbody>\n",
              "    <tr>\n",
              "      <th>936738</th>\n",
              "      <td>2021-01-16</td>\n",
              "      <td>Sweetwater</td>\n",
              "      <td>Wyoming</td>\n",
              "      <td>56037.0</td>\n",
              "      <td>3280</td>\n",
              "      <td>26.0</td>\n",
              "    </tr>\n",
              "    <tr>\n",
              "      <th>936739</th>\n",
              "      <td>2021-01-16</td>\n",
              "      <td>Teton</td>\n",
              "      <td>Wyoming</td>\n",
              "      <td>56039.0</td>\n",
              "      <td>2614</td>\n",
              "      <td>4.0</td>\n",
              "    </tr>\n",
              "    <tr>\n",
              "      <th>936740</th>\n",
              "      <td>2021-01-16</td>\n",
              "      <td>Uinta</td>\n",
              "      <td>Wyoming</td>\n",
              "      <td>56041.0</td>\n",
              "      <td>1813</td>\n",
              "      <td>9.0</td>\n",
              "    </tr>\n",
              "    <tr>\n",
              "      <th>936741</th>\n",
              "      <td>2021-01-16</td>\n",
              "      <td>Washakie</td>\n",
              "      <td>Wyoming</td>\n",
              "      <td>56043.0</td>\n",
              "      <td>841</td>\n",
              "      <td>23.0</td>\n",
              "    </tr>\n",
              "    <tr>\n",
              "      <th>936742</th>\n",
              "      <td>2021-01-16</td>\n",
              "      <td>Weston</td>\n",
              "      <td>Wyoming</td>\n",
              "      <td>56045.0</td>\n",
              "      <td>602</td>\n",
              "      <td>4.0</td>\n",
              "    </tr>\n",
              "  </tbody>\n",
              "</table>\n",
              "</div>"
            ],
            "text/plain": [
              "              date      county    state     fips  cases  deaths\n",
              "936738  2021-01-16  Sweetwater  Wyoming  56037.0   3280    26.0\n",
              "936739  2021-01-16       Teton  Wyoming  56039.0   2614     4.0\n",
              "936740  2021-01-16       Uinta  Wyoming  56041.0   1813     9.0\n",
              "936741  2021-01-16    Washakie  Wyoming  56043.0    841    23.0\n",
              "936742  2021-01-16      Weston  Wyoming  56045.0    602     4.0"
            ]
          },
          "metadata": {
            "tags": []
          },
          "execution_count": 28
        }
      ]
    },
    {
      "cell_type": "code",
      "metadata": {
        "colab": {
          "base_uri": "https://localhost:8080/",
          "height": 359
        },
        "id": "r1d4cPoRyupg",
        "outputId": "53ca94df-7013-4fc0-94dc-1aa7fbdc54f2"
      },
      "source": [
        "df.head(10)"
      ],
      "execution_count": null,
      "outputs": [
        {
          "output_type": "execute_result",
          "data": {
            "text/html": [
              "<div>\n",
              "<style scoped>\n",
              "    .dataframe tbody tr th:only-of-type {\n",
              "        vertical-align: middle;\n",
              "    }\n",
              "\n",
              "    .dataframe tbody tr th {\n",
              "        vertical-align: top;\n",
              "    }\n",
              "\n",
              "    .dataframe thead th {\n",
              "        text-align: right;\n",
              "    }\n",
              "</style>\n",
              "<table border=\"1\" class=\"dataframe\">\n",
              "  <thead>\n",
              "    <tr style=\"text-align: right;\">\n",
              "      <th></th>\n",
              "      <th>date</th>\n",
              "      <th>county</th>\n",
              "      <th>state</th>\n",
              "      <th>fips</th>\n",
              "      <th>cases</th>\n",
              "      <th>deaths</th>\n",
              "    </tr>\n",
              "  </thead>\n",
              "  <tbody>\n",
              "    <tr>\n",
              "      <th>0</th>\n",
              "      <td>2020-01-21</td>\n",
              "      <td>Snohomish</td>\n",
              "      <td>Washington</td>\n",
              "      <td>53061.0</td>\n",
              "      <td>1</td>\n",
              "      <td>0.0</td>\n",
              "    </tr>\n",
              "    <tr>\n",
              "      <th>1</th>\n",
              "      <td>2020-01-22</td>\n",
              "      <td>Snohomish</td>\n",
              "      <td>Washington</td>\n",
              "      <td>53061.0</td>\n",
              "      <td>1</td>\n",
              "      <td>0.0</td>\n",
              "    </tr>\n",
              "    <tr>\n",
              "      <th>2</th>\n",
              "      <td>2020-01-23</td>\n",
              "      <td>Snohomish</td>\n",
              "      <td>Washington</td>\n",
              "      <td>53061.0</td>\n",
              "      <td>1</td>\n",
              "      <td>0.0</td>\n",
              "    </tr>\n",
              "    <tr>\n",
              "      <th>3</th>\n",
              "      <td>2020-01-24</td>\n",
              "      <td>Cook</td>\n",
              "      <td>Illinois</td>\n",
              "      <td>17031.0</td>\n",
              "      <td>1</td>\n",
              "      <td>0.0</td>\n",
              "    </tr>\n",
              "    <tr>\n",
              "      <th>4</th>\n",
              "      <td>2020-01-24</td>\n",
              "      <td>Snohomish</td>\n",
              "      <td>Washington</td>\n",
              "      <td>53061.0</td>\n",
              "      <td>1</td>\n",
              "      <td>0.0</td>\n",
              "    </tr>\n",
              "    <tr>\n",
              "      <th>5</th>\n",
              "      <td>2020-01-25</td>\n",
              "      <td>Orange</td>\n",
              "      <td>California</td>\n",
              "      <td>6059.0</td>\n",
              "      <td>1</td>\n",
              "      <td>0.0</td>\n",
              "    </tr>\n",
              "    <tr>\n",
              "      <th>6</th>\n",
              "      <td>2020-01-25</td>\n",
              "      <td>Cook</td>\n",
              "      <td>Illinois</td>\n",
              "      <td>17031.0</td>\n",
              "      <td>1</td>\n",
              "      <td>0.0</td>\n",
              "    </tr>\n",
              "    <tr>\n",
              "      <th>7</th>\n",
              "      <td>2020-01-25</td>\n",
              "      <td>Snohomish</td>\n",
              "      <td>Washington</td>\n",
              "      <td>53061.0</td>\n",
              "      <td>1</td>\n",
              "      <td>0.0</td>\n",
              "    </tr>\n",
              "    <tr>\n",
              "      <th>8</th>\n",
              "      <td>2020-01-26</td>\n",
              "      <td>Maricopa</td>\n",
              "      <td>Arizona</td>\n",
              "      <td>4013.0</td>\n",
              "      <td>1</td>\n",
              "      <td>0.0</td>\n",
              "    </tr>\n",
              "    <tr>\n",
              "      <th>9</th>\n",
              "      <td>2020-01-26</td>\n",
              "      <td>Los Angeles</td>\n",
              "      <td>California</td>\n",
              "      <td>6037.0</td>\n",
              "      <td>1</td>\n",
              "      <td>0.0</td>\n",
              "    </tr>\n",
              "  </tbody>\n",
              "</table>\n",
              "</div>"
            ],
            "text/plain": [
              "         date       county       state     fips  cases  deaths\n",
              "0  2020-01-21    Snohomish  Washington  53061.0      1     0.0\n",
              "1  2020-01-22    Snohomish  Washington  53061.0      1     0.0\n",
              "2  2020-01-23    Snohomish  Washington  53061.0      1     0.0\n",
              "3  2020-01-24         Cook    Illinois  17031.0      1     0.0\n",
              "4  2020-01-24    Snohomish  Washington  53061.0      1     0.0\n",
              "5  2020-01-25       Orange  California   6059.0      1     0.0\n",
              "6  2020-01-25         Cook    Illinois  17031.0      1     0.0\n",
              "7  2020-01-25    Snohomish  Washington  53061.0      1     0.0\n",
              "8  2020-01-26     Maricopa     Arizona   4013.0      1     0.0\n",
              "9  2020-01-26  Los Angeles  California   6037.0      1     0.0"
            ]
          },
          "metadata": {
            "tags": []
          },
          "execution_count": 29
        }
      ]
    },
    {
      "cell_type": "code",
      "metadata": {
        "colab": {
          "base_uri": "https://localhost:8080/"
        },
        "id": "yO2K0yhst6zj",
        "outputId": "efa0abff-fbee-4bf7-c171-476b198d4099"
      },
      "source": [
        "df.count()"
      ],
      "execution_count": null,
      "outputs": [
        {
          "output_type": "execute_result",
          "data": {
            "text/plain": [
              "date      936743\n",
              "county    936743\n",
              "state     936743\n",
              "fips      927998\n",
              "cases     936743\n",
              "deaths    916734\n",
              "dtype: int64"
            ]
          },
          "metadata": {
            "tags": []
          },
          "execution_count": 30
        }
      ]
    },
    {
      "cell_type": "code",
      "metadata": {
        "colab": {
          "base_uri": "https://localhost:8080/"
        },
        "id": "jSnWmgEbt9YQ",
        "outputId": "6b94a1b7-5837-4f18-98e3-77d8f1ad3d3e"
      },
      "source": [
        "df.max ()"
      ],
      "execution_count": null,
      "outputs": [
        {
          "output_type": "execute_result",
          "data": {
            "text/plain": [
              "date      2021-01-16\n",
              "county       Ziebach\n",
              "state        Wyoming\n",
              "fips           78030\n",
              "cases        1004322\n",
              "deaths         25970\n",
              "dtype: object"
            ]
          },
          "metadata": {
            "tags": []
          },
          "execution_count": 31
        }
      ]
    },
    {
      "cell_type": "code",
      "metadata": {
        "colab": {
          "base_uri": "https://localhost:8080/"
        },
        "id": "XXi9c7xUuAMF",
        "outputId": "d7afd7da-55c5-4c97-e7be-c490dae909ff"
      },
      "source": [
        "df.min ()"
      ],
      "execution_count": null,
      "outputs": [
        {
          "output_type": "execute_result",
          "data": {
            "text/plain": [
              "date      2020-01-21\n",
              "county     Abbeville\n",
              "state        Alabama\n",
              "fips            1001\n",
              "cases              0\n",
              "deaths             0\n",
              "dtype: object"
            ]
          },
          "metadata": {
            "tags": []
          },
          "execution_count": 32
        }
      ]
    },
    {
      "cell_type": "code",
      "metadata": {
        "id": "9hfX6mc5uDLR",
        "colab": {
          "base_uri": "https://localhost:8080/"
        },
        "outputId": "c9839e03-0502-4322-f2a0-1d6ad86c7bd6"
      },
      "source": [
        "df.mean ()"
      ],
      "execution_count": 33,
      "outputs": [
        {
          "output_type": "execute_result",
          "data": {
            "text/plain": [
              "fips      31272.235882\n",
              "cases      2220.426651\n",
              "deaths       57.090916\n",
              "dtype: float64"
            ]
          },
          "metadata": {
            "tags": []
          },
          "execution_count": 33
        }
      ]
    },
    {
      "cell_type": "code",
      "metadata": {
        "id": "Mo9wbjiRuGIb",
        "colab": {
          "base_uri": "https://localhost:8080/"
        },
        "outputId": "6f20f59c-ef8a-4c23-cbbc-d825403549db"
      },
      "source": [
        "df.median ()"
      ],
      "execution_count": 34,
      "outputs": [
        {
          "output_type": "execute_result",
          "data": {
            "text/plain": [
              "fips      29217.0\n",
              "cases       265.0\n",
              "deaths        5.0\n",
              "dtype: float64"
            ]
          },
          "metadata": {
            "tags": []
          },
          "execution_count": 34
        }
      ]
    },
    {
      "cell_type": "code",
      "metadata": {
        "id": "5mPO9hfYuMB7",
        "colab": {
          "base_uri": "https://localhost:8080/",
          "height": 297
        },
        "outputId": "af3d8fa9-45af-4d43-8074-8ed431e1fce3"
      },
      "source": [
        "df.describe ()"
      ],
      "execution_count": 35,
      "outputs": [
        {
          "output_type": "execute_result",
          "data": {
            "text/html": [
              "<div>\n",
              "<style scoped>\n",
              "    .dataframe tbody tr th:only-of-type {\n",
              "        vertical-align: middle;\n",
              "    }\n",
              "\n",
              "    .dataframe tbody tr th {\n",
              "        vertical-align: top;\n",
              "    }\n",
              "\n",
              "    .dataframe thead th {\n",
              "        text-align: right;\n",
              "    }\n",
              "</style>\n",
              "<table border=\"1\" class=\"dataframe\">\n",
              "  <thead>\n",
              "    <tr style=\"text-align: right;\">\n",
              "      <th></th>\n",
              "      <th>fips</th>\n",
              "      <th>cases</th>\n",
              "      <th>deaths</th>\n",
              "    </tr>\n",
              "  </thead>\n",
              "  <tbody>\n",
              "    <tr>\n",
              "      <th>count</th>\n",
              "      <td>927998.000000</td>\n",
              "      <td>9.367430e+05</td>\n",
              "      <td>916734.000000</td>\n",
              "    </tr>\n",
              "    <tr>\n",
              "      <th>mean</th>\n",
              "      <td>31272.235882</td>\n",
              "      <td>2.220427e+03</td>\n",
              "      <td>57.090916</td>\n",
              "    </tr>\n",
              "    <tr>\n",
              "      <th>std</th>\n",
              "      <td>16300.652394</td>\n",
              "      <td>1.163864e+04</td>\n",
              "      <td>461.272771</td>\n",
              "    </tr>\n",
              "    <tr>\n",
              "      <th>min</th>\n",
              "      <td>1001.000000</td>\n",
              "      <td>0.000000e+00</td>\n",
              "      <td>0.000000</td>\n",
              "    </tr>\n",
              "    <tr>\n",
              "      <th>25%</th>\n",
              "      <td>19001.000000</td>\n",
              "      <td>4.100000e+01</td>\n",
              "      <td>0.000000</td>\n",
              "    </tr>\n",
              "    <tr>\n",
              "      <th>50%</th>\n",
              "      <td>29217.000000</td>\n",
              "      <td>2.650000e+02</td>\n",
              "      <td>5.000000</td>\n",
              "    </tr>\n",
              "    <tr>\n",
              "      <th>75%</th>\n",
              "      <td>46101.000000</td>\n",
              "      <td>1.142000e+03</td>\n",
              "      <td>24.000000</td>\n",
              "    </tr>\n",
              "    <tr>\n",
              "      <th>max</th>\n",
              "      <td>78030.000000</td>\n",
              "      <td>1.004322e+06</td>\n",
              "      <td>25970.000000</td>\n",
              "    </tr>\n",
              "  </tbody>\n",
              "</table>\n",
              "</div>"
            ],
            "text/plain": [
              "                fips         cases         deaths\n",
              "count  927998.000000  9.367430e+05  916734.000000\n",
              "mean    31272.235882  2.220427e+03      57.090916\n",
              "std     16300.652394  1.163864e+04     461.272771\n",
              "min      1001.000000  0.000000e+00       0.000000\n",
              "25%     19001.000000  4.100000e+01       0.000000\n",
              "50%     29217.000000  2.650000e+02       5.000000\n",
              "75%     46101.000000  1.142000e+03      24.000000\n",
              "max     78030.000000  1.004322e+06   25970.000000"
            ]
          },
          "metadata": {
            "tags": []
          },
          "execution_count": 35
        }
      ]
    },
    {
      "cell_type": "code",
      "metadata": {
        "id": "d9c71Ro3MbNf",
        "colab": {
          "base_uri": "https://localhost:8080/"
        },
        "outputId": "6e595803-ca4b-47a3-b8ab-ef978cb51b4c"
      },
      "source": [
        "df.shape"
      ],
      "execution_count": 36,
      "outputs": [
        {
          "output_type": "execute_result",
          "data": {
            "text/plain": [
              "(936743, 6)"
            ]
          },
          "metadata": {
            "tags": []
          },
          "execution_count": 36
        }
      ]
    },
    {
      "cell_type": "code",
      "metadata": {
        "id": "ot49fr9D0Jsa"
      },
      "source": [
        "drop_cols=['fips']"
      ],
      "execution_count": 37,
      "outputs": []
    },
    {
      "cell_type": "code",
      "metadata": {
        "id": "GxlhqyXzCQ-E"
      },
      "source": [
        "df.drop(drop_cols,inplace = True, axis=1)"
      ],
      "execution_count": 38,
      "outputs": []
    },
    {
      "cell_type": "code",
      "metadata": {
        "id": "Jvik5LUMUSPz",
        "colab": {
          "base_uri": "https://localhost:8080/",
          "height": 419
        },
        "outputId": "eaf91764-7d7c-4f09-9ee7-94d0f085729f"
      },
      "source": [
        "df"
      ],
      "execution_count": 39,
      "outputs": [
        {
          "output_type": "execute_result",
          "data": {
            "text/html": [
              "<div>\n",
              "<style scoped>\n",
              "    .dataframe tbody tr th:only-of-type {\n",
              "        vertical-align: middle;\n",
              "    }\n",
              "\n",
              "    .dataframe tbody tr th {\n",
              "        vertical-align: top;\n",
              "    }\n",
              "\n",
              "    .dataframe thead th {\n",
              "        text-align: right;\n",
              "    }\n",
              "</style>\n",
              "<table border=\"1\" class=\"dataframe\">\n",
              "  <thead>\n",
              "    <tr style=\"text-align: right;\">\n",
              "      <th></th>\n",
              "      <th>date</th>\n",
              "      <th>county</th>\n",
              "      <th>state</th>\n",
              "      <th>cases</th>\n",
              "      <th>deaths</th>\n",
              "    </tr>\n",
              "  </thead>\n",
              "  <tbody>\n",
              "    <tr>\n",
              "      <th>0</th>\n",
              "      <td>2020-01-21</td>\n",
              "      <td>Snohomish</td>\n",
              "      <td>Washington</td>\n",
              "      <td>1</td>\n",
              "      <td>0.0</td>\n",
              "    </tr>\n",
              "    <tr>\n",
              "      <th>1</th>\n",
              "      <td>2020-01-22</td>\n",
              "      <td>Snohomish</td>\n",
              "      <td>Washington</td>\n",
              "      <td>1</td>\n",
              "      <td>0.0</td>\n",
              "    </tr>\n",
              "    <tr>\n",
              "      <th>2</th>\n",
              "      <td>2020-01-23</td>\n",
              "      <td>Snohomish</td>\n",
              "      <td>Washington</td>\n",
              "      <td>1</td>\n",
              "      <td>0.0</td>\n",
              "    </tr>\n",
              "    <tr>\n",
              "      <th>3</th>\n",
              "      <td>2020-01-24</td>\n",
              "      <td>Cook</td>\n",
              "      <td>Illinois</td>\n",
              "      <td>1</td>\n",
              "      <td>0.0</td>\n",
              "    </tr>\n",
              "    <tr>\n",
              "      <th>4</th>\n",
              "      <td>2020-01-24</td>\n",
              "      <td>Snohomish</td>\n",
              "      <td>Washington</td>\n",
              "      <td>1</td>\n",
              "      <td>0.0</td>\n",
              "    </tr>\n",
              "    <tr>\n",
              "      <th>...</th>\n",
              "      <td>...</td>\n",
              "      <td>...</td>\n",
              "      <td>...</td>\n",
              "      <td>...</td>\n",
              "      <td>...</td>\n",
              "    </tr>\n",
              "    <tr>\n",
              "      <th>936738</th>\n",
              "      <td>2021-01-16</td>\n",
              "      <td>Sweetwater</td>\n",
              "      <td>Wyoming</td>\n",
              "      <td>3280</td>\n",
              "      <td>26.0</td>\n",
              "    </tr>\n",
              "    <tr>\n",
              "      <th>936739</th>\n",
              "      <td>2021-01-16</td>\n",
              "      <td>Teton</td>\n",
              "      <td>Wyoming</td>\n",
              "      <td>2614</td>\n",
              "      <td>4.0</td>\n",
              "    </tr>\n",
              "    <tr>\n",
              "      <th>936740</th>\n",
              "      <td>2021-01-16</td>\n",
              "      <td>Uinta</td>\n",
              "      <td>Wyoming</td>\n",
              "      <td>1813</td>\n",
              "      <td>9.0</td>\n",
              "    </tr>\n",
              "    <tr>\n",
              "      <th>936741</th>\n",
              "      <td>2021-01-16</td>\n",
              "      <td>Washakie</td>\n",
              "      <td>Wyoming</td>\n",
              "      <td>841</td>\n",
              "      <td>23.0</td>\n",
              "    </tr>\n",
              "    <tr>\n",
              "      <th>936742</th>\n",
              "      <td>2021-01-16</td>\n",
              "      <td>Weston</td>\n",
              "      <td>Wyoming</td>\n",
              "      <td>602</td>\n",
              "      <td>4.0</td>\n",
              "    </tr>\n",
              "  </tbody>\n",
              "</table>\n",
              "<p>936743 rows × 5 columns</p>\n",
              "</div>"
            ],
            "text/plain": [
              "              date      county       state  cases  deaths\n",
              "0       2020-01-21   Snohomish  Washington      1     0.0\n",
              "1       2020-01-22   Snohomish  Washington      1     0.0\n",
              "2       2020-01-23   Snohomish  Washington      1     0.0\n",
              "3       2020-01-24        Cook    Illinois      1     0.0\n",
              "4       2020-01-24   Snohomish  Washington      1     0.0\n",
              "...            ...         ...         ...    ...     ...\n",
              "936738  2021-01-16  Sweetwater     Wyoming   3280    26.0\n",
              "936739  2021-01-16       Teton     Wyoming   2614     4.0\n",
              "936740  2021-01-16       Uinta     Wyoming   1813     9.0\n",
              "936741  2021-01-16    Washakie     Wyoming    841    23.0\n",
              "936742  2021-01-16      Weston     Wyoming    602     4.0\n",
              "\n",
              "[936743 rows x 5 columns]"
            ]
          },
          "metadata": {
            "tags": []
          },
          "execution_count": 39
        }
      ]
    },
    {
      "cell_type": "code",
      "metadata": {
        "colab": {
          "base_uri": "https://localhost:8080/"
        },
        "id": "nuaAhPr6bWcZ",
        "outputId": "50f56640-bd48-4282-824d-22eeacdef7a6"
      },
      "source": [
        "df.groupby(['state'])['cases'].count()"
      ],
      "execution_count": 40,
      "outputs": [
        {
          "output_type": "execute_result",
          "data": {
            "text/plain": [
              "state\n",
              "Alabama                     20018\n",
              "Alaska                       7129\n",
              "Arizona                      4640\n",
              "Arkansas                    22400\n",
              "California                  17729\n",
              "Colorado                    18679\n",
              "Connecticut                  2753\n",
              "Delaware                     1203\n",
              "District of Columbia          316\n",
              "Florida                     20586\n",
              "Georgia                     47769\n",
              "Guam                          308\n",
              "Hawaii                       1308\n",
              "Idaho                       11974\n",
              "Illinois                    29869\n",
              "Indiana                     27542\n",
              "Iowa                        28870\n",
              "Kansas                      28557\n",
              "Kentucky                    34732\n",
              "Louisiana                   19573\n",
              "Maine                        5038\n",
              "Maryland                     7595\n",
              "Massachusetts                4684\n",
              "Michigan                    24714\n",
              "Minnesota                   25467\n",
              "Mississippi                 24566\n",
              "Missouri                    33205\n",
              "Montana                     13664\n",
              "Nebraska                    24096\n",
              "Nevada                       4613\n",
              "New Hampshire                3310\n",
              "New Jersey                   6813\n",
              "New Mexico                   9417\n",
              "New York                    17736\n",
              "North Carolina              29608\n",
              "North Dakota                14471\n",
              "Northern Mariana Islands      520\n",
              "Ohio                        26250\n",
              "Oklahoma                    22328\n",
              "Oregon                      10426\n",
              "Pennsylvania                20147\n",
              "Puerto Rico                 20319\n",
              "Rhode Island                 1812\n",
              "South Carolina              13919\n",
              "South Dakota                17740\n",
              "Tennessee                   28447\n",
              "Texas                       71066\n",
              "Utah                         8459\n",
              "Vermont                      4528\n",
              "Virgin Islands                989\n",
              "Virginia                    39014\n",
              "Washington                  12085\n",
              "West Virginia               15726\n",
              "Wisconsin                   21287\n",
              "Wyoming                      6729\n",
              "Name: cases, dtype: int64"
            ]
          },
          "metadata": {
            "tags": []
          },
          "execution_count": 40
        }
      ]
    },
    {
      "cell_type": "code",
      "metadata": {
        "id": "iBC4c7Yvbauk"
      },
      "source": [
        "NY_cases_by_county= df[df[\"state\"] == \"New York\"]"
      ],
      "execution_count": 41,
      "outputs": []
    },
    {
      "cell_type": "code",
      "metadata": {
        "colab": {
          "base_uri": "https://localhost:8080/"
        },
        "id": "bpvCncAocKW-",
        "outputId": "d2f46077-ce13-4717-fd07-7d0516066e35"
      },
      "source": [
        "print(\"Total cases and Total Deaths for New York\" + \"\\n\") "
      ],
      "execution_count": 42,
      "outputs": [
        {
          "output_type": "stream",
          "text": [
            "Total cases and Total Deaths for New York\n",
            "\n"
          ],
          "name": "stdout"
        }
      ]
    },
    {
      "cell_type": "code",
      "metadata": {
        "id": "WjsQ3wrxcXPk"
      },
      "source": [
        "significant = [\"cases\",\"deaths\"]\n"
      ],
      "execution_count": 43,
      "outputs": []
    },
    {
      "cell_type": "code",
      "metadata": {
        "colab": {
          "base_uri": "https://localhost:8080/"
        },
        "id": "kHa0W-O2cc4-",
        "outputId": "368a757f-339a-43e9-d500-eadabc8c19da"
      },
      "source": [
        "NY_total = NY_cases_by_county.groupby(\"date\")[significant].sum()\n",
        "print(NY_total)\n",
        "print(\"\\n\\n\")"
      ],
      "execution_count": 44,
      "outputs": [
        {
          "output_type": "stream",
          "text": [
            "              cases   deaths\n",
            "date                        \n",
            "2020-03-01        1      0.0\n",
            "2020-03-02        1      0.0\n",
            "2020-03-03        2      0.0\n",
            "2020-03-04       11      0.0\n",
            "2020-03-05       22      0.0\n",
            "...             ...      ...\n",
            "2021-01-12  1164819  39588.0\n",
            "2021-01-13  1179523  39760.0\n",
            "2021-01-14  1193710  39997.0\n",
            "2021-01-15  1213179  40203.0\n",
            "2021-01-16  1229124  40376.0\n",
            "\n",
            "[322 rows x 2 columns]\n",
            "\n",
            "\n",
            "\n"
          ],
          "name": "stdout"
        }
      ]
    },
    {
      "cell_type": "code",
      "metadata": {
        "id": "eqXp20wmcgEu"
      },
      "source": [
        "dates_list =list(NY_total.index)\n",
        "NY_cases_list = NY_total[\"cases\"].tolist()\n",
        "NY_deaths_list = NY_total[\"deaths\"].tolist()"
      ],
      "execution_count": 45,
      "outputs": []
    },
    {
      "cell_type": "code",
      "metadata": {
        "id": "N1CNZ0_xcl8A"
      },
      "source": [
        "new_cases = np.diff(NY_cases_list).tolist()\n",
        "new_deaths = np.diff(NY_deaths_list).tolist()\n",
        "new_cases.insert(0,\"N\\A\")\n",
        "new_deaths.insert(0,\"N\\A\")"
      ],
      "execution_count": 46,
      "outputs": []
    },
    {
      "cell_type": "code",
      "metadata": {
        "id": "jknqIBBvcouZ"
      },
      "source": [
        "NY_df = pd.DataFrame(list(zip(dates_list,new_cases,new_deaths)),columns=[\"dates\",\"new cases\",\"new deaths\"])"
      ],
      "execution_count": 47,
      "outputs": []
    },
    {
      "cell_type": "code",
      "metadata": {
        "id": "RdCSEphXcw0M"
      },
      "source": [
        "NY_df = NY_df.set_index(\"dates\")"
      ],
      "execution_count": 48,
      "outputs": []
    },
    {
      "cell_type": "code",
      "metadata": {
        "colab": {
          "base_uri": "https://localhost:8080/"
        },
        "id": "BXMsLWpgcz0v",
        "outputId": "2989ca60-69a0-4f54-a8a1-17e675fc0bab"
      },
      "source": [
        "print(\"The new cases and new deaths in New York\" + \"\\n\")\n",
        "print(NY_df)"
      ],
      "execution_count": 49,
      "outputs": [
        {
          "output_type": "stream",
          "text": [
            "The new cases and new deaths in New York\n",
            "\n",
            "           new cases new deaths\n",
            "dates                          \n",
            "2020-03-01       N\\A        N\\A\n",
            "2020-03-02         0          0\n",
            "2020-03-03         1          0\n",
            "2020-03-04         9          0\n",
            "2020-03-05        11          0\n",
            "...              ...        ...\n",
            "2021-01-12     14791        184\n",
            "2021-01-13     14704        172\n",
            "2021-01-14     14187        237\n",
            "2021-01-15     19469        206\n",
            "2021-01-16     15945        173\n",
            "\n",
            "[322 rows x 2 columns]\n"
          ],
          "name": "stdout"
        }
      ]
    },
    {
      "cell_type": "code",
      "metadata": {
        "colab": {
          "base_uri": "https://localhost:8080/"
        },
        "id": "uFfmJNu_c87Z",
        "outputId": "0cb7c74c-79ce-4ede-80db-8d7ab852f66d"
      },
      "source": [
        "last_30_days_from = NY_df.tail(n=30)\n",
        "print(\"The last 30 days COVID data in New York\" + \"\\n\")\n",
        "print(last_30_days_from)\n",
        "print(\"\\n\")"
      ],
      "execution_count": 50,
      "outputs": [
        {
          "output_type": "stream",
          "text": [
            "The last 30 days COVID data in New York\n",
            "\n",
            "           new cases new deaths\n",
            "dates                          \n",
            "2020-12-18     12606        128\n",
            "2020-12-19      9913        122\n",
            "2020-12-20      9454        120\n",
            "2020-12-21      9456        130\n",
            "2020-12-22     10299        153\n",
            "2020-12-23     11740        154\n",
            "2020-12-24     13347        150\n",
            "2020-12-25     12881        135\n",
            "2020-12-26     11048        131\n",
            "2020-12-27      8205        130\n",
            "2020-12-28     10334        118\n",
            "2020-12-29     12020        138\n",
            "2020-12-30     12917        156\n",
            "2020-12-31     15393        145\n",
            "2021-01-01     17033        176\n",
            "2021-01-02     15849        121\n",
            "2021-01-03     12232        147\n",
            "2021-01-04     11242        166\n",
            "2021-01-05     13142        148\n",
            "2021-01-06     16016        171\n",
            "2021-01-07     17588        197\n",
            "2021-01-08     19560        163\n",
            "2021-01-09     17839        195\n",
            "2021-01-10     16308        167\n",
            "2021-01-11     14179        196\n",
            "2021-01-12     14791        184\n",
            "2021-01-13     14704        172\n",
            "2021-01-14     14187        237\n",
            "2021-01-15     19469        206\n",
            "2021-01-16     15945        173\n",
            "\n",
            "\n"
          ],
          "name": "stdout"
        }
      ]
    },
    {
      "cell_type": "code",
      "metadata": {
        "colab": {
          "base_uri": "https://localhost:8080/",
          "height": 312
        },
        "id": "UA4eD0i_dG7g",
        "outputId": "a251348e-14b0-4c19-8e20-d48996b34cd7"
      },
      "source": [
        "last_30_days_from.plot(kind= 'barh') \n",
        "plot.title('New Covid cases & deaths in New York state in the last 30 days')\n",
        "plot.xlabel('Cases')\n",
        "plot.ylabel('Dates')"
      ],
      "execution_count": 55,
      "outputs": [
        {
          "output_type": "execute_result",
          "data": {
            "text/plain": [
              "Text(0, 0.5, 'Dates')"
            ]
          },
          "metadata": {
            "tags": []
          },
          "execution_count": 55
        },
        {
          "output_type": "display_data",
          "data": {
            "image/png": "[encoded data removed]",
            "text/plain": [
              "<Figure size 432x288 with 1 Axes>"
            ]
          },
          "metadata": {
            "tags": [],
            "needs_background": "light"
          }
        }
      ]
    },
    {
      "cell_type": "markdown",
      "metadata": {
        "id": "ZAqexYkzgeJh"
      },
      "source": [
        "In this graph we can see that in the last 30 days the number of new cases have increase. \n",
        "\n",
        "There are only two days that we can see that are closer to the 20000 cases."
      ]
    },
    {
      "cell_type": "code",
      "metadata": {
        "id": "TJ65n2cHeZJh"
      },
      "source": [
        "states =['New York', 'Kentucky', 'Virginia', 'Texas', 'Florida']"
      ],
      "execution_count": 56,
      "outputs": []
    },
    {
      "cell_type": "code",
      "metadata": {
        "id": "NbwPRYV1hAO4"
      },
      "source": [
        "death=pd.DataFrame(df.groupby(['state'])['deaths'].max())"
      ],
      "execution_count": 57,
      "outputs": []
    },
    {
      "cell_type": "code",
      "metadata": {
        "colab": {
          "base_uri": "https://localhost:8080/",
          "height": 235
        },
        "id": "7sqznJcWhElp",
        "outputId": "f19afd0d-ace2-46dd-b2e4-600c2bf9319d"
      },
      "source": [
        "death.nlargest(5,'deaths')"
      ],
      "execution_count": 58,
      "outputs": [
        {
          "output_type": "execute_result",
          "data": {
            "text/html": [
              "<div>\n",
              "<style scoped>\n",
              "    .dataframe tbody tr th:only-of-type {\n",
              "        vertical-align: middle;\n",
              "    }\n",
              "\n",
              "    .dataframe tbody tr th {\n",
              "        vertical-align: top;\n",
              "    }\n",
              "\n",
              "    .dataframe thead th {\n",
              "        text-align: right;\n",
              "    }\n",
              "</style>\n",
              "<table border=\"1\" class=\"dataframe\">\n",
              "  <thead>\n",
              "    <tr style=\"text-align: right;\">\n",
              "      <th></th>\n",
              "      <th>deaths</th>\n",
              "    </tr>\n",
              "    <tr>\n",
              "      <th>state</th>\n",
              "      <th></th>\n",
              "    </tr>\n",
              "  </thead>\n",
              "  <tbody>\n",
              "    <tr>\n",
              "      <th>New York</th>\n",
              "      <td>25970.0</td>\n",
              "    </tr>\n",
              "    <tr>\n",
              "      <th>California</th>\n",
              "      <td>13741.0</td>\n",
              "    </tr>\n",
              "    <tr>\n",
              "      <th>Illinois</th>\n",
              "      <td>8980.0</td>\n",
              "    </tr>\n",
              "    <tr>\n",
              "      <th>Arizona</th>\n",
              "      <td>6437.0</td>\n",
              "    </tr>\n",
              "    <tr>\n",
              "      <th>Florida</th>\n",
              "      <td>4561.0</td>\n",
              "    </tr>\n",
              "  </tbody>\n",
              "</table>\n",
              "</div>"
            ],
            "text/plain": [
              "             deaths\n",
              "state              \n",
              "New York    25970.0\n",
              "California  13741.0\n",
              "Illinois     8980.0\n",
              "Arizona      6437.0\n",
              "Florida      4561.0"
            ]
          },
          "metadata": {
            "tags": []
          },
          "execution_count": 58
        }
      ]
    },
    {
      "cell_type": "code",
      "metadata": {
        "colab": {
          "base_uri": "https://localhost:8080/",
          "height": 298
        },
        "id": "nPLWDu_jhJId",
        "outputId": "5c022ab2-8bcd-45d9-ee60-586640ef60cb"
      },
      "source": [
        "for s in states:\n",
        "    df1=df.query(f\"state == '{s}'\").reset_index()\n",
        "    plt.plot(df1['cases'],label=s)\n",
        "plt.title('Cases of Covid-19 in some states')\n",
        "plt.legend()"
      ],
      "execution_count": 62,
      "outputs": [
        {
          "output_type": "execute_result",
          "data": {
            "text/plain": [
              "<matplotlib.legend.Legend at 0x7f7cd5b6c5c0>"
            ]
          },
          "metadata": {
            "tags": []
          },
          "execution_count": 62
        },
        {
          "output_type": "display_data",
          "data": {
            "image/png": "[encoded data removed]",
            "text/plain": [
              "<Figure size 432x288 with 1 Axes>"
            ]
          },
          "metadata": {
            "tags": [],
            "needs_background": "light"
          }
        }
      ]
    },
    {
      "cell_type": "markdown",
      "metadata": {
        "id": "wZVziuR4iUKS"
      },
      "source": [
        "Conclusion\n",
        "\n",
        "New York is the states with COVID-19 cases that have grown faster in the last 30 days.\n",
        "\n",
        "There is 15945 new cases and 173 new deaths reported as of Jan 16, 2021.\n",
        "\n",
        "In comparison to Texas and Florida, New York have presented the highest amount of cases and deaths as we can see in the above graph.\n",
        "\n",
        "\n",
        "\n"
      ]
    }
  ]
}